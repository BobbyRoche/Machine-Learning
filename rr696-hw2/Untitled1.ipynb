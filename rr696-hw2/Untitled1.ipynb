{
 "cells": [
  {
   "cell_type": "code",
   "execution_count": 2,
   "metadata": {},
   "outputs": [],
   "source": [
    "import numpy as np\n",
    "import sys\n",
    "import matplotlib.pyplot as plt\n",
    "from math import ceil\n",
    "from math import *\n",
    "import pandas as pd\n",
    "from sklearn import linear_model\n",
    "from sklearn.linear_model import LinearRegression\n",
    "from sklearn.model_selection import train_test_split\n",
    "from sklearn.linear_model import LogisticRegression\n",
    "from sklearn.datasets import load_iris\n",
    "import random"
   ]
  },
  {
   "cell_type": "code",
   "execution_count": 19,
   "metadata": {},
   "outputs": [
    {
     "name": "stdout",
     "output_type": "stream",
     "text": [
      "[[ 1.         -0.87287156  0.92717265]\n",
      " [ 1.          1.09108945 -1.05962589]\n",
      " [ 1.         -0.21821789  0.13245324]]\n",
      "[  0.73333333 -14.35873718 -14.09302428]\n"
     ]
    }
   ],
   "source": [
    "X = [[2,3],[5,(-2)],[3,1]]\n",
    "Y = [0.2,0,2]\n",
    "\n",
    "X = np.array(X)\n",
    "Y = np.array(Y)\n",
    "mean = np.mean(X,axis=0)\n",
    "std=np.std(X,axis=0,ddof=1)\n",
    "X = (X-mean)/std\n",
    "X = np.insert(X, 0, values = 1, axis = 1)\n",
    "print(X)\n",
    "thetas = np.linalg.inv(X.T@X)@X.T@Y\n",
    "print(thetas)"
   ]
  },
  {
   "cell_type": "code",
   "execution_count": null,
   "metadata": {},
   "outputs": [],
   "source": []
  }
 ],
 "metadata": {
  "kernelspec": {
   "display_name": "Python 3",
   "language": "python",
   "name": "python3"
  },
  "language_info": {
   "codemirror_mode": {
    "name": "ipython",
    "version": 3
   },
   "file_extension": ".py",
   "mimetype": "text/x-python",
   "name": "python",
   "nbconvert_exporter": "python",
   "pygments_lexer": "ipython3",
   "version": "3.7.6"
  }
 },
 "nbformat": 4,
 "nbformat_minor": 4
}
