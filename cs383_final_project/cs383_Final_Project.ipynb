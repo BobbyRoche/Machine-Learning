{
 "cells": [
  {
   "cell_type": "markdown",
   "metadata": {},
   "source": [
    "# Robert Roche\n",
    "# CS383 Final Project\n",
    "\n",
    "## College QB Draft Round Prediction\n",
    "\n",
    "## Dataset Source: https://www.kaggle.com/av8ramit/ncaa-college-quarterback-data\n",
    "\n",
    "\n",
    "## Imports"
   ]
  },
  {
   "cell_type": "code",
   "execution_count": 465,
   "metadata": {},
   "outputs": [],
   "source": [
    "import numpy as np\n",
    "import csv\n",
    "import sys\n",
    "import matplotlib.pyplot as plt\n",
    "import matplotlib.cm as cm\n",
    "from math import *\n",
    "import pandas as pd\n",
    "from sklearn import linear_model\n",
    "from sklearn.model_selection import train_test_split\n",
    "from sklearn.linear_model import LogisticRegression\n",
    "from sklearn import metrics\n",
    "import random"
   ]
  },
  {
   "cell_type": "markdown",
   "metadata": {},
   "source": [
    "## Sigmoid and Prediction Methods"
   ]
  },
  {
   "cell_type": "code",
   "execution_count": 466,
   "metadata": {},
   "outputs": [],
   "source": [
    "#sigmoid\n",
    "def g(x):  \n",
    "    return (1/(1+np.exp(-x)))\n",
    "\n",
    "def prediction(X,thetas):\n",
    "    i = 0\n",
    "    y_list = []\n",
    "    while i < len(thetas):\n",
    "        y_list.extend(g(X@thetas[i].T))\n",
    "        i+=1\n",
    "    return((y_list.index(max(y_list)))+1)"
   ]
  },
  {
   "cell_type": "markdown",
   "metadata": {},
   "source": [
    "## Retrieve and Setup Data"
   ]
  },
  {
   "cell_type": "code",
   "execution_count": 467,
   "metadata": {},
   "outputs": [],
   "source": [
    "f = open(\"quarterback_total.csv\")\n",
    "length = len(f.readline().split(','))\n",
    "\n",
    "#getting the data from our csv ignoring strings\n",
    "data=np.loadtxt(\"quarterback_total.csv\", delimiter=\",\", skiprows = 1, usecols=range(1,length))\n",
    "\n",
    "#adding the names of each player to a list so we know can know who exactly we're ranking\n",
    "labels = []\n",
    "reader = csv.reader(f, delimiter=\",\")\n",
    "for i in reader:\n",
    "    labels.append(i[0])\n",
    "\n",
    "f.close()\n",
    "\n",
    "y = np.array(data[0:,11])\n",
    "X = np.array(data[:,0:11])\n",
    "\n",
    "y1 = []\n",
    "y2 = []\n",
    "y3 = []\n",
    "y4 = []\n",
    "y5 = []\n",
    "y6 = []\n",
    "y7 = []\n",
    "\n",
    "#construct a 1 versus all list for each potential target value\n",
    "for i in y:\n",
    "    if i == 1:\n",
    "        y1.append(1)\n",
    "        y2.append(0)\n",
    "        y3.append(0)\n",
    "        y4.append(0)\n",
    "        y5.append(0)\n",
    "        y6.append(0)\n",
    "        y7.append(0)\n",
    "    \n",
    "    elif i == 2:\n",
    "        y1.append(0)\n",
    "        y2.append(1)\n",
    "        y3.append(0)\n",
    "        y4.append(0)\n",
    "        y5.append(0)\n",
    "        y6.append(0)\n",
    "        y7.append(0)\n",
    "        \n",
    "    elif i == 3:\n",
    "        y1.append(0)\n",
    "        y2.append(0)\n",
    "        y3.append(1)\n",
    "        y4.append(0)\n",
    "        y5.append(0)\n",
    "        y6.append(0)\n",
    "        y7.append(0)\n",
    "    \n",
    "    elif i == 4:\n",
    "        y1.append(0)\n",
    "        y2.append(0)\n",
    "        y3.append(0)\n",
    "        y4.append(1)\n",
    "        y5.append(0)\n",
    "        y6.append(0)\n",
    "        y7.append(0)\n",
    "        \n",
    "    elif i == 5:\n",
    "        y1.append(0)\n",
    "        y2.append(0)\n",
    "        y3.append(0)\n",
    "        y4.append(0)\n",
    "        y5.append(1)\n",
    "        y6.append(0)\n",
    "        y7.append(0)\n",
    "        \n",
    "    elif i == 6:\n",
    "        y1.append(0)\n",
    "        y2.append(0)\n",
    "        y3.append(0)\n",
    "        y4.append(0)\n",
    "        y5.append(0)\n",
    "        y6.append(1)\n",
    "        y7.append(0)\n",
    "        \n",
    "    elif i == 7:\n",
    "        y1.append(0)\n",
    "        y2.append(0)\n",
    "        y3.append(0)\n",
    "        y4.append(0)\n",
    "        y5.append(0)\n",
    "        y6.append(0)\n",
    "        y7.append(1)\n",
    "        \n"
   ]
  },
  {
   "cell_type": "code",
   "execution_count": 468,
   "metadata": {},
   "outputs": [],
   "source": [
    "mean = np.mean(X,axis=0)\n",
    "std = np.std(X,axis=0,ddof=1)\n",
    "\n",
    "X = (X-mean)/std\n",
    "\n",
    "X = np.insert(X, 0, values=1, axis=1)\n",
    "\n",
    "#split the data into 2/3 trainging 1/3 testing\n",
    "X_train,X_test,y_train,y_test = train_test_split(X,y,test_size = (1/3),shuffle=False)\n",
    "\n",
    "X_train1,X_test1,y_train1,y_test1 = train_test_split(X,y1,test_size = (1/3),shuffle=False)\n",
    "\n",
    "X_train2,X_test2,y_train2,y_test2 = train_test_split(X,y2,test_size = (1/3),shuffle=False)\n",
    "\n",
    "X_train3,X_test3,y_train3,y_test3 = train_test_split(X,y3,test_size = (1/3),shuffle=False)\n",
    "\n",
    "X_train4,X_test4,y_train4,y_test4 = train_test_split(X,y4,test_size = (1/3),shuffle=False)\n",
    "\n",
    "X_train5,X_test5,y_train5,y_test5 = train_test_split(X,y5,test_size = (1/3),shuffle=False)\n",
    "\n",
    "X_train6,X_test6,y_train6,y_test6 = train_test_split(X,y6,test_size = (1/3),shuffle=False)\n",
    "\n",
    "X_train7,X_test7,y_train7,y_test7 = train_test_split(X,y7,test_size = (1/3),shuffle=False)\n"
   ]
  },
  {
   "cell_type": "markdown",
   "metadata": {},
   "source": [
    "## Logistic Regression Learning"
   ]
  },
  {
   "cell_type": "code",
   "execution_count": 469,
   "metadata": {},
   "outputs": [],
   "source": [
    "LogReg1 = LogisticRegression(random_state=0)\n",
    "LogReg2 = LogisticRegression(random_state=0)\n",
    "LogReg3 = LogisticRegression(random_state=0)\n",
    "LogReg4 = LogisticRegression(random_state=0)\n",
    "LogReg5 = LogisticRegression(random_state=0)\n",
    "LogReg6 = LogisticRegression(random_state=0)\n",
    "LogReg7 = LogisticRegression(random_state=0)\n",
    "coeff1 = LogReg1.fit(X_train1,y_train1)\n",
    "coeff2 = LogReg2.fit(X_train2,y_train2)\n",
    "coeff3 = LogReg3.fit(X_train3,y_train3)\n",
    "coeff4 = LogReg4.fit(X_train4,y_train4)\n",
    "coeff5 = LogReg5.fit(X_train5,y_train5)\n",
    "coeff6 = LogReg6.fit(X_train6,y_train6)\n",
    "coeff7 = LogReg7.fit(X_train7,y_train7)\n",
    "\n",
    "thetas_list = []\n",
    "\n",
    "#condense all the thetas into a list\n",
    "thetas_list.append(coeff1.coef_)\n",
    "thetas_list.append(coeff2.coef_)\n",
    "thetas_list.append(coeff3.coef_)\n",
    "thetas_list.append(coeff4.coef_)\n",
    "thetas_list.append(coeff5.coef_)\n",
    "thetas_list.append(coeff6.coef_)\n",
    "thetas_list.append(coeff7.coef_)\n"
   ]
  },
  {
   "cell_type": "markdown",
   "metadata": {},
   "source": [
    "## Making Predictions"
   ]
  },
  {
   "cell_type": "code",
   "execution_count": 470,
   "metadata": {},
   "outputs": [],
   "source": [
    "pred = []\n",
    "for x in X_test:\n",
    "    pred.append(prediction(x,thetas_list))"
   ]
  },
  {
   "cell_type": "code",
   "execution_count": 474,
   "metadata": {},
   "outputs": [
    {
     "name": "stdout",
     "output_type": "stream",
     "text": [
      "Accuracy of the models: 0.4897959183673469\n"
     ]
    }
   ],
   "source": [
    "i=0\n",
    "count = 0\n",
    "while i < len(pred):\n",
    "    if( pred[i] == y_test[i]):\n",
    "        count+=1\n",
    "    i+=1\n",
    "print(\"Accuracy of the models: \" + str(count/len(y_test)))"
   ]
  },
  {
   "cell_type": "markdown",
   "metadata": {},
   "source": [
    "## Individual Model Observation"
   ]
  },
  {
   "cell_type": "code",
   "execution_count": 476,
   "metadata": {},
   "outputs": [
    {
     "name": "stdout",
     "output_type": "stream",
     "text": [
      "Round 1 model accuracy: 0.9183673469387755\n",
      "Round 2 model accuracy: 0.8979591836734694\n",
      "Round 3 model accuracy: 0.9183673469387755\n",
      "Round 4 model accuracy: 0.8367346938775511\n",
      "Round 5 model accuracy: 0.8571428571428571\n",
      "Round 6 model accuracy: 0.8979591836734694\n",
      "Round 7 model accuracy: 0.8571428571428571\n"
     ]
    }
   ],
   "source": [
    "print(\"Round 1 model accuracy: \" + str(metrics.accuracy_score(y_test1,coeff1.predict(X_test1))))\n",
    "print(\"Round 2 model accuracy: \" + str(metrics.accuracy_score(y_test2,coeff2.predict(X_test2))))\n",
    "print(\"Round 3 model accuracy: \" + str(metrics.accuracy_score(y_test3,coeff3.predict(X_test3))))\n",
    "print(\"Round 4 model accuracy: \" + str(metrics.accuracy_score(y_test4,coeff4.predict(X_test4))))\n",
    "print(\"Round 5 model accuracy: \" + str(metrics.accuracy_score(y_test5,coeff5.predict(X_test5))))\n",
    "print(\"Round 6 model accuracy: \" + str(metrics.accuracy_score(y_test6,coeff6.predict(X_test6))))\n",
    "print(\"Round 7 model accuracy: \" + str(metrics.accuracy_score(y_test7,coeff7.predict(X_test7))))"
   ]
  },
  {
   "cell_type": "code",
   "execution_count": null,
   "metadata": {},
   "outputs": [],
   "source": []
  }
 ],
 "metadata": {
  "kernelspec": {
   "display_name": "Python 3",
   "language": "python",
   "name": "python3"
  },
  "language_info": {
   "codemirror_mode": {
    "name": "ipython",
    "version": 3
   },
   "file_extension": ".py",
   "mimetype": "text/x-python",
   "name": "python",
   "nbconvert_exporter": "python",
   "pygments_lexer": "ipython3",
   "version": "3.7.6"
  }
 },
 "nbformat": 4,
 "nbformat_minor": 4
}
