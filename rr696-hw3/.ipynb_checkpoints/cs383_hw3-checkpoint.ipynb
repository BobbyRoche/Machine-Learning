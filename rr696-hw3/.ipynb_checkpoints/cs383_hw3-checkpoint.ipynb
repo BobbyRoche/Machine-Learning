{
 "cells": [
  {
   "cell_type": "markdown",
   "metadata": {},
   "source": [
    "# Robert Roche\n",
    "\n",
    "## CS383 Homework 3\n",
    "\n",
    "### Imports"
   ]
  },
  {
   "cell_type": "code",
   "execution_count": 1,
   "metadata": {},
   "outputs": [],
   "source": [
    "import numpy as np\n",
    "import sys\n",
    "import matplotlib.pyplot as plt\n",
    "import matplotlib.cm as cm\n",
    "from math import ceil\n",
    "from math import *\n",
    "import pandas as pd\n",
    "from sklearn import preprocessing as pp\n",
    "from sklearn import linear_model\n",
    "from sklearn.linear_model import LinearRegression\n",
    "from sklearn.model_selection import train_test_split\n",
    "from sklearn.linear_model import LogisticRegression\n",
    "from sklearn.datasets import load_iris\n",
    "import random"
   ]
  },
  {
   "cell_type": "markdown",
   "metadata": {},
   "source": [
    "### Problem 1: Theory"
   ]
  },
  {
   "cell_type": "code",
   "execution_count": 33,
   "metadata": {},
   "outputs": [
    {
     "name": "stdout",
     "output_type": "stream",
     "text": [
      "[[-0.71636104  0.69772979]\n",
      " [-0.69772979 -0.71636104]]\n",
      "[[-1.1 -0.4]\n",
      " [-4.1 -5.4]\n",
      " [-2.1 -0.4]\n",
      " [ 0.9  1.6]\n",
      " [-7.1  9.6]\n",
      " [-1.1  3.6]\n",
      " [ 1.9 -1.4]\n",
      " [ 5.9 -2.4]\n",
      " [-0.1 -4.4]\n",
      " [ 6.9 -0.4]]\n",
      "[[ 0.50890522  1.05404719]\n",
      " [-0.83066062  6.72904175]\n",
      " [ 1.22526626  1.75177698]\n",
      " [ 0.47164273 -1.77413447]\n",
      " [11.78436938 -1.92318444]\n",
      " [ 3.29982439 -1.81139696]\n",
      " [-2.33790768 -0.32278115]\n",
      " [-5.90108163 -2.39733929]\n",
      " [-2.99837498  3.22176155]\n",
      " [-5.22198308 -4.52779115]]\n"
     ]
    }
   ],
   "source": [
    "def quadratic(a,b,c):   \n",
    "    r = sqrt((b**2)-(4*a*c))\n",
    "    r1 = (-b + r)/(2*a)\n",
    "    r2 = (-b - r)/(2*a)\n",
    "    return r1,r2\n",
    "\n",
    "data = [[(-2),1],[(-5),(-4)],[(-3),1],[0,3],[(-8),11],[(-2),5],[1,0],[5,(-1)],[(-1),(-3)],[6,1]]\n",
    "\n",
    "data = np.array(data)\n",
    "\n",
    "x = []\n",
    "y = []\n",
    "\n",
    "for i in data:\n",
    "    x.append(i[0])\n",
    "    y.append(i[1])\n",
    "\n",
    "x = np.array(x)\n",
    "y = np.array(y)\n",
    "mean = np.mean(data,axis=0)\n",
    "X = data-mean\n",
    "meanx = np.mean(x,axis=0)\n",
    "meany = np.mean(y,axis=0)\n",
    "\n",
    "stdx = []\n",
    "stdy = []\n",
    "\n",
    "for i in x:\n",
    "    stdx.append(i-meanx)\n",
    "    \n",
    "for i in y:\n",
    "    stdy.append(i-meany)\n",
    "\n",
    "stdx = np.array(stdx)\n",
    "stdy = np.array(stdy)\n",
    "new_mat = []\n",
    "i=0\n",
    "while i < len(stdx):\n",
    "    new_mat.append([stdx[i],stdy[i]])\n",
    "    i+=1\n",
    "new_mat = np.array(new_mat)\n",
    "covariance_mat =(new_mat.T @ new_mat)/10\n",
    "coef1 = (16.09+16.44)\n",
    "coef2 = ((16.09*(16.44))-((-6.64)*(-6.64)))\n",
    "root1,root2 = quadratic(1,(coef1*(-1)),coef2)\n",
    "eigval1 = root1\n",
    "eigval2 = root2\n",
    "\n",
    "val,vec = np.linalg.eig(covariance_mat)\n",
    "\n",
    "\n",
    "projection = X@vec.T\n",
    "print(vec)\n",
    "print(new_mat)\n",
    "print(projection)\n"
   ]
  },
  {
   "cell_type": "markdown",
   "metadata": {},
   "source": [
    "### Problem 2: Dimensionality Reduction via PCA"
   ]
  },
  {
   "cell_type": "code",
   "execution_count": 44,
   "metadata": {},
   "outputs": [
    {
     "name": "stdout",
     "output_type": "stream",
     "text": [
      "people.images.shape: (3023, 87, 65)\n",
      "Number of classes: 62\n",
      "Alejandro Toledo           39      Alvaro Uribe               35      Amelie Mauresmo            21      \n",
      "Andre Agassi               36      Angelina Jolie             20      Ariel Sharon               77      \n",
      "Arnold Schwarzenegger      42      Atal Bihari Vajpayee       24      Bill Clinton               29      \n",
      "Carlos Menem               21      Colin Powell              236      David Beckham              31      \n",
      "Donald Rumsfeld           121      George Robertson           22      George W Bush             530      \n",
      "Gerhard Schroeder         109      Gloria Macapagal Arroyo    44      Gray Davis                 26      \n",
      "Guillermo Coria            30      Hamid Karzai               22      Hans Blix                  39      \n",
      "Hugo Chavez                71      Igor Ivanov                20      Jack Straw                 28      \n",
      "Jacques Chirac             52      Jean Chretien              55      Jennifer Aniston           21      \n",
      "Jennifer Capriati          42      Jennifer Lopez             21      Jeremy Greenstock          24      \n",
      "Jiang Zemin                20      John Ashcroft              53      John Negroponte            31      \n",
      "Jose Maria Aznar           23      Juan Carlos Ferrero        28      Junichiro Koizumi          60      \n",
      "Kofi Annan                 32      Laura Bush                 41      Lindsay Davenport          22      \n",
      "Lleyton Hewitt             41      Luiz Inacio Lula da Silva  48      Mahmoud Abbas              29      \n",
      "Megawati Sukarnoputri      33      Michael Bloomberg          20      Naomi Watts                22      \n",
      "Nestor Kirchner            37      Paul Bremer                20      Pete Sampras               22      \n",
      "Recep Tayyip Erdogan       30      Ricardo Lagos              27      Roh Moo-hyun               32      \n",
      "Rudolph Giuliani           26      Saddam Hussein             23      Serena Williams            52      \n",
      "Silvio Berlusconi          33      Tiger Woods                23      Tom Daschle                25      \n",
      "Tom Ridge                  33      Tony Blair                144      Vicente Fox                32      \n",
      "Vladimir Putin             49      Winona Ryder               24      \n",
      "\n",
      "Test set score of 1−nn :0.23\n",
      "Accuracy of my KNN implementation: 0.23255813953488372\n"
     ]
    },
    {
     "name": "stderr",
     "output_type": "stream",
     "text": [
      "C:\\Users\\roche\\anaconda3\\lib\\site-packages\\ipykernel_launcher.py:16: ComplexWarning: Casting complex values to real discards the imaginary part\n",
      "  app.launch_new_instance()\n"
     ]
    },
    {
     "name": "stdout",
     "output_type": "stream",
     "text": [
      "Accuracy of my KNN implementation after PCA: 0.23255813953488372\n"
     ]
    },
    {
     "name": "stderr",
     "output_type": "stream",
     "text": [
      "C:\\Users\\roche\\anaconda3\\lib\\site-packages\\ipykernel_launcher.py:104: RuntimeWarning: invalid value encountered in power\n",
      "C:\\Users\\roche\\anaconda3\\lib\\site-packages\\ipykernel_launcher.py:16: ComplexWarning: Casting complex values to real discards the imaginary part\n",
      "  app.launch_new_instance()\n"
     ]
    },
    {
     "name": "stdout",
     "output_type": "stream",
     "text": [
      "Accuracy of my KNN implementation after Whitening + PCA: 0.23255813953488372\n"
     ]
    },
    {
     "name": "stderr",
     "output_type": "stream",
     "text": [
      "C:\\Users\\roche\\anaconda3\\lib\\site-packages\\numpy\\core\\_asarray.py:85: ComplexWarning: Casting complex values to real discards the imaginary part\n",
      "  return array(a, dtype, copy=False, order=order)\n"
     ]
    },
    {
     "data": {
      "image/png": "[encoded data removed]",
      "text/plain": [
       "<Figure size 432x288 with 1 Axes>"
      ]
     },
     "metadata": {
      "needs_background": "light"
     },
     "output_type": "display_data"
    }
   ],
   "source": [
    "from sklearn.datasets import fetch_lfw_people\n",
    "from sklearn.neighbors import KNeighborsClassifier\n",
    "\n",
    "#KNN Computation\n",
    "def k_nearest(X_train,sample,y_train):\n",
    "    distances = []\n",
    "    i=0\n",
    "    #Given a test sample, iterate through each training point and calculate the distance to the test sample\n",
    "    while i<len(X_train):\n",
    "        distance=0\n",
    "        #The following line is equivalent to sqrt((xi-yi)**2) for all x's in the training and test set\n",
    "        #I did it the entire row at once to make the run time shorter\n",
    "        #this formula was found here: \n",
    "        #https://scikit-learn.org/stable/modules/generated/sklearn.metrics.pairwise.euclidean_distances.html\n",
    "        \n",
    "        dist = sqrt((X_train[i]@X_train[i])-2*(X_train[i]@sample) + (sample@sample))\n",
    "        #Create a collection of the distances and the target value of the training point\n",
    "        distances.append([dist,y_train[i]])\n",
    "        i+=1\n",
    "    \n",
    "    #calculate the smallest distance and return the pair of distance, and target value\n",
    "    min_d = sorted(distances, key=lambda d: d[0])\n",
    "    return min_d[0]\n",
    "\n",
    "    \n",
    "\n",
    "people = fetch_lfw_people (min_faces_per_person=20, resize=0.7)\n",
    "\n",
    "print(\"people.images.shape: {}\".format(people.images.shape))\n",
    "print(\"Number of classes: {}\".format(len(people.target_names)))\n",
    "\n",
    "#count how often each target appears\n",
    "counts = np.bincount(people.target)\n",
    "#print counts next to target names\n",
    "for i,(count,name) in enumerate (zip(counts, people.target_names)):\n",
    "    print(\"{0:25} {1:3}\".format(name,count),end='      ')\n",
    "    if(i+1) % 3 == 0 :\n",
    "        print( )\n",
    "\n",
    "mask = np.zeros(people.target.shape, dtype=np.bool)\n",
    "for target in np.unique(people.target):\n",
    "    mask[np.where(people.target == target)[0][:50]] = 1\n",
    "    \n",
    "X_people = people.data[mask]\n",
    "y_people = people.target[mask]\n",
    "\n",
    "X_people = X_people/255\n",
    "\n",
    "X_train, X_test, y_train, y_test = train_test_split(X_people, y_people, stratify = y_people, random_state =0)\n",
    "knn = KNeighborsClassifier(n_neighbors=1)\n",
    "knn.fit(X_train,y_train)\n",
    "print(\"\\n\\nTest set score of 1−nn :{:.2f}\".format(knn.score(X_test,y_test)))\n",
    "\n",
    "############# my version of knn ##########################\n",
    "y_prediction = []\n",
    "\n",
    "\n",
    "\n",
    "for i in X_test:\n",
    "    y_prediction.append(k_nearest(X_train,i,y_train))\n",
    "\n",
    "i=0\n",
    "count=0\n",
    "while i < len(y_test):\n",
    "    if y_prediction[i][1] == y_test[i]:\n",
    "        count+=1\n",
    "    i+=1\n",
    "accuracy = count/(len(y_test))\n",
    "print(\"Accuracy of my KNN implementation: \" + str(accuracy))\n",
    "\n",
    "############ KNN after PCA ###################################\n",
    "x_mean =  np.mean(X_people, axis=0)\n",
    "\n",
    "variance_x = ((X_people-x_mean).T)@(X_people-x_mean)/(len(X_people)-1)\n",
    "val,vec = np.linalg.eig(variance_x)\n",
    "vec = vec.T\n",
    "\n",
    "indices = np.argsort(val)[::-1]\n",
    "val = val[indices]\n",
    "vec = vec[indices]\n",
    "vectors = vec[0:100]\n",
    "transform = X_people@vectors.T\n",
    "transform = np.array(transform)\n",
    "X_train2, X_test2, y_train2, y_test2 = train_test_split(transform, y_people, stratify = y_people, random_state =0)\n",
    "for i in X_test2:\n",
    "    y_prediction.append(k_nearest(X_train2,i,y_train2))\n",
    "\n",
    "i=0\n",
    "count=0\n",
    "while i < len(y_test2):\n",
    "    if y_prediction[i][1] == y_test2[i]:\n",
    "        count+=1\n",
    "    i+=1\n",
    "accuracy2 = count/(len(y_test2))\n",
    "print(\"Accuracy of my KNN implementation after PCA: \" + str(accuracy2))\n",
    "\n",
    "\n",
    "############# KNN After Whitening and PCA ######################\n",
    "x_mean =  np.mean(X_people, axis=0)\n",
    "std = np.std(X_people,axis=0,ddof=1)\n",
    "X_people = (X_people-x_mean)/std\n",
    "variance_x = (X_people.T@X_people)/(len(X_people)-1)\n",
    "val,vec = np.linalg.eig(variance_x)\n",
    "D = np.diag(val**(-1/2))\n",
    "new_vec = (vec@D)@vec.T\n",
    "new_vec = new_vec.T\n",
    "indices = np.argsort(val)[::-1]\n",
    "val = val[indices]\n",
    "new_vec = new_vec[indices]\n",
    "vectors = new_vec[0:100]\n",
    "transform2 = (X_people@vectors.T)\n",
    "transform2 = np.array(transform)\n",
    "\n",
    "X_train3, X_test3, y_train3, y_test3 = train_test_split(transform2, y_people, stratify = y_people, random_state =0)\n",
    "for i in X_test3:\n",
    "    y_prediction.append(k_nearest(X_train3,i,y_train3))\n",
    "\n",
    "i=0\n",
    "count=0\n",
    "while i < len(y_test3):\n",
    "    if y_prediction[i][1] == y_test3[i]:\n",
    "        count+=1\n",
    "    i+=1\n",
    "accuracy3 = count/(len(y_test3))\n",
    "print(\"Accuracy of my KNN implementation after Whitening + PCA: \" + str(accuracy3))\n",
    "\n",
    "################# Plot 2D Data ##########################\n",
    "x_mean =  np.mean(X_train, axis=0)\n",
    "\n",
    "variance_x = ((X_train-x_mean).T)@(X_train-x_mean)/(len(X_train)-1)\n",
    "val,vec = np.linalg.eig(variance_x)\n",
    "vec = vec.T\n",
    "indices = np.argsort(val)[::-1]\n",
    "val = val[indices]\n",
    "vec = vec[indices]\n",
    "vectors = vec[0:2]\n",
    "transform = X_train@vectors.T\n",
    "transform = np.array(transform)\n",
    "\n",
    "plt.plot(transform[:,0],transform[:,1],\"bo\")\n",
    "plt.show()\n",
    "\n",
    "\n",
    "\n",
    "\n",
    "\n"
   ]
  },
  {
   "cell_type": "markdown",
   "metadata": {},
   "source": [
    "### Problem 3: Eigenfaces"
   ]
  },
  {
   "cell_type": "code",
   "execution_count": 16,
   "metadata": {},
   "outputs": [
    {
     "name": "stdout",
     "output_type": "stream",
     "text": [
      "people.images.shape: (3023, 87, 65)\n",
      "Number of classes: 62\n",
      "(5655,)\n",
      "(1547,)\n",
      "PC1 max = (0.018952763+0j)\n",
      "PC1 min = (-0.0043666926+0j)\n",
      "Primary Component\n"
     ]
    },
    {
     "data": {
      "image/png": "[encoded data removed]",
      "text/plain": [
       "<Figure size 432x288 with 1 Axes>"
      ]
     },
     "metadata": {
      "needs_background": "light"
     },
     "output_type": "display_data"
    },
    {
     "data": {
      "text/plain": [
       "'\\nPCA1 = vec[0]\\ntransform = X_train@vec.T\\n\\nPC1_min = transform[0]\\nPC1_max = 0\\n\\n#fig1 = plt.figure()\\n#ax1 = fig1.add_subplot(121)\\n#img1 = ax1.imshow(float(PC1_min.T))\\nplt.imshow(np.real(PC1_min.reshape(h,w)), cmap=plt.cm.gray)\\nplt.show()\\n'"
      ]
     },
     "execution_count": 16,
     "metadata": {},
     "output_type": "execute_result"
    }
   ],
   "source": [
    "from sklearn.datasets import fetch_lfw_people\n",
    "from sklearn.neighbors import KNeighborsClassifier    \n",
    "\n",
    "people = fetch_lfw_people (min_faces_per_person=20, resize=0.7)\n",
    "h = 87\n",
    "w = 65\n",
    "print(\"people.images.shape: {}\".format(people.images.shape))\n",
    "print(\"Number of classes: {}\".format(len(people.target_names)))\n",
    "\n",
    "#count how often each target appears\n",
    "counts = np.bincount(people.target)\n",
    "\n",
    "mask = np.zeros(people.target.shape, dtype=np.bool)\n",
    "for target in np.unique(people.target):\n",
    "    mask[np.where(people.target == target)[0][:50]] = 1\n",
    "    \n",
    "X_people = people.data[mask]\n",
    "y_people = people.target[mask]\n",
    "\n",
    "X_people = X_people/255\n",
    "\n",
    "X_train, X_test, y_train, y_test = train_test_split(X_people, y_people, stratify = y_people, random_state =0)\n",
    "\n",
    "x_mean =  np.mean(X_train, axis=0)\n",
    "\n",
    "variance_x = ((X_train-x_mean).T)@(X_train-x_mean)/(len(X_train)-1)\n",
    "val,vec = np.linalg.eig(variance_x)\n",
    "vec = vec.T\n",
    "indices = np.argsort(val)[::-1]\n",
    "val = val[indices]\n",
    "vec = vec[indices]\n",
    "#print(vec)\n",
    "#print(\"###############\")\n",
    "#print(val)\n",
    "print(vec[0].shape)\n",
    "PCA1 = X_train@vec[0].T\n",
    "print(PCA1.shape)\n",
    "PC1 = sorted(vec[0])\n",
    "print(\"PC1 max = \" + str(PC1[-1]))\n",
    "print(\"PC1 min = \" + str(PC1[0]))\n",
    "print(\"Primary Component\")\n",
    "plt.imshow(np.real(vec[0].reshape(h,w)), cmap=cm. gray)\n",
    "plt.show()\n"
   ]
  },
  {
   "cell_type": "code",
   "execution_count": 18,
   "metadata": {},
   "outputs": [
    {
     "name": "stdout",
     "output_type": "stream",
     "text": [
      "PC2 max = (0.023294695+0j)\n",
      "PC2 min = (-0.03392709+0j)\n",
      "PC2 Eigenface\n"
     ]
    },
    {
     "data": {
      "image/png": "[encoded data removed]",
      "text/plain": [
       "<Figure size 432x288 with 1 Axes>"
      ]
     },
     "metadata": {
      "needs_background": "light"
     },
     "output_type": "display_data"
    }
   ],
   "source": [
    "PC2 = sorted(vec[1])\n",
    "print(\"PC2 max = \" + str(PC2[-1]))\n",
    "print(\"PC2 min = \" + str(PC2[0]))\n",
    "print(\"PC2 Eigenface\")\n",
    "plt.imshow(np.real(vec[1].reshape(h,w)), cmap=plt.cm.gray)\n",
    "plt.show()"
   ]
  },
  {
   "cell_type": "code",
   "execution_count": null,
   "metadata": {},
   "outputs": [],
   "source": []
  },
  {
   "cell_type": "code",
   "execution_count": 28,
   "metadata": {},
   "outputs": [
    {
     "data": {
      "image/png": "[encoded data removed]",
      "text/plain": [
       "<Figure size 432x288 with 1 Axes>"
      ]
     },
     "metadata": {
      "needs_background": "light"
     },
     "output_type": "display_data"
    }
   ],
   "source": [
    "#project data\n",
    "transform = X_train@vec.T\n",
    "transform = np.array(transform)\n",
    "\n",
    "#reconstruct\n",
    "r = transform[0]@vec[0]\n",
    "r = r + x_mean\n",
    "plt.imshow(np.real(r.reshape(h,w)), cmap=plt.cm.gray)\n",
    "plt.show()"
   ]
  },
  {
   "cell_type": "code",
   "execution_count": 30,
   "metadata": {},
   "outputs": [
    {
     "data": {
      "image/png": "[encoded data removed]",
      "text/plain": [
       "<Figure size 432x288 with 1 Axes>"
      ]
     },
     "metadata": {
      "needs_background": "light"
     },
     "output_type": "display_data"
    }
   ],
   "source": [
    "#95% of the most significant vectors would be 5733\n",
    "r2 = transform[0]@vec[0:5733]\n",
    "r2 = r2+x_mean\n",
    "plt.imshow(np.real(r2.reshape(h,w)), cmap=plt.cm.gray)\n",
    "plt.show()"
   ]
  },
  {
   "cell_type": "code",
   "execution_count": 31,
   "metadata": {},
   "outputs": [
    {
     "data": {
      "image/png": "[encoded data removed]",
      "text/plain": [
       "<Figure size 432x288 with 1 Axes>"
      ]
     },
     "metadata": {
      "needs_background": "light"
     },
     "output_type": "display_data"
    }
   ],
   "source": [
    "plt.imshow(np.real(X_train[0].reshape(h,w)), cmap=plt.cm.gray)\n",
    "plt.show()"
   ]
  },
  {
   "cell_type": "code",
   "execution_count": null,
   "metadata": {},
   "outputs": [],
   "source": []
  }
 ],
 "metadata": {
  "kernelspec": {
   "display_name": "Python 3",
   "language": "python",
   "name": "python3"
  },
  "language_info": {
   "codemirror_mode": {
    "name": "ipython",
    "version": 3
   },
   "file_extension": ".py",
   "mimetype": "text/x-python",
   "name": "python",
   "nbconvert_exporter": "python",
   "pygments_lexer": "ipython3",
   "version": "3.7.6"
  }
 },
 "nbformat": 4,
 "nbformat_minor": 4
}
