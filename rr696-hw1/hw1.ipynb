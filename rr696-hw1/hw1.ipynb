{
 "cells": [
  {
   "cell_type": "markdown",
   "metadata": {},
   "source": [
    "# Robert Roche\n",
    "## CS 383 HW1 Code\n",
    "\n",
    "### Imports"
   ]
  },
  {
   "cell_type": "code",
   "execution_count": 1,
   "metadata": {},
   "outputs": [],
   "source": [
    "import numpy as np\n",
    "import matplotlib.pyplot as plt\n",
    "from math import ceil\n",
    "from math import *\n",
    "import pandas as pd\n",
    "from sklearn import linear_model\n",
    "from sklearn.linear_model import LinearRegression\n",
    "from sklearn.model_selection import train_test_split\n",
    "import random"
   ]
  },
  {
   "cell_type": "markdown",
   "metadata": {},
   "source": [
    "### Problem 1 Code\n",
    "\n",
    "Below is problem 1 part b, comparing my coefficients to those calculated by the sklearn library it appears my calculations are correct. Following the usage of the sklearn library I implemented my own calculations and they appear to have the same result.\n",
    "\n",
    "### 1)"
   ]
  },
  {
   "cell_type": "code",
   "execution_count": 3,
   "metadata": {
    "scrolled": true
   },
   "outputs": [
    {
     "name": "stdout",
     "output_type": "stream",
     "text": [
      "theta0 = 1.0285891858297078\n",
      "theta1= -0.4126786824114355\n",
      "Line equation:\ty=(-0.4126786824114355)x+(1.0285891858297078)\n"
     ]
    },
    {
     "data": {
      "image/png": "[encoded data removed]",
      "text/plain": [
       "<Figure size 432x288 with 1 Axes>"
      ]
     },
     "metadata": {
      "needs_background": "light"
     },
     "output_type": "display_data"
    }
   ],
   "source": [
    "#(-2,1 ; -5,-4 ; -3,1 ; 0,3 ; -8,11 ; -2,5 ; 1,0 ; 5,-1 ; -1,-3 ; 6,1)\n",
    "\n",
    "#plotting the points\n",
    "X = [[-2,1],\n",
    "    [-5,-4],\n",
    "    [-3,1],\n",
    "    [0,3],\n",
    "    [-8,11],\n",
    "    [-2,5],\n",
    "    [1,0],\n",
    "    [5,-1],\n",
    "    [-1,3],\n",
    "    [6,1]]\n",
    "X = np.array(X)\n",
    "\n",
    "\n",
    "plt.plot(X[:,0],X[:,1],'bo')\n",
    "plt.ylim(-10,12)\n",
    "plt.xlim(-10,12)\n",
    "############################\n",
    "\n",
    "#X and Y Matrices\n",
    "Xmat = [[-2],\n",
    "        [-5],\n",
    "        [-3],\n",
    "        [0],\n",
    "        [-8],\n",
    "        [-2],\n",
    "        [1],\n",
    "        [5],\n",
    "        [-1],\n",
    "        [6]]\n",
    "\n",
    "Ymat = [[1],\n",
    "        [-4],\n",
    "        [1],\n",
    "        [3],\n",
    "        [11],\n",
    "        [5],\n",
    "        [0],\n",
    "        [-1],\n",
    "        [-3],\n",
    "        [1]]\n",
    "\n",
    "#Finding the coefficients/intercepts\n",
    "Xmat = np.array(Xmat)\n",
    "Ymat = np.array(Ymat)\n",
    "model = LinearRegression()\n",
    "model.fit(Xmat,Ymat)\n",
    "\n",
    "m = model.coef_[0][0]\n",
    "b = model.intercept_[0]\n",
    "print(\"theta0 =\",b)\n",
    "print(\"theta1=\",m)\n",
    "ps = \"Line equation:\\ty=(\"+str(m)+\")x+(\"+str(b)+\")\"\n",
    "print(ps)\n",
    "x = np.linspace(-12,12)\n",
    "y = model.predict(x[:,None])\n",
    "plt.plot(x,y)\n",
    "plt.show()\n",
    "\n",
    "\n"
   ]
  },
  {
   "cell_type": "code",
   "execution_count": 23,
   "metadata": {},
   "outputs": [
    {
     "name": "stdout",
     "output_type": "stream",
     "text": [
      "[35.8 -9.4 -5.6]\n"
     ]
    },
    {
     "data": {
      "image/png": "[encoded data removed]",
      "text/plain": [
       "<Figure size 432x288 with 1 Axes>"
      ]
     },
     "metadata": {
      "needs_background": "light"
     },
     "output_type": "display_data"
    }
   ],
   "source": [
    "#(-2,1 ; -5,-4 ; -3,1 ; 0,3 ; -8,11 ; -2,5 ; 1,0 ; 5,-1 ; -1,-3 ; 6,1)\n",
    "\n",
    "\n",
    "#These are the results of using my calculations\n",
    "\n",
    "#plotting the points\n",
    "X = [[-2,1],\n",
    "    [-5,-4],\n",
    "    [-3,1],\n",
    "    [0,3],\n",
    "    [-8,11],\n",
    "    [-2,5],\n",
    "    [1,0],\n",
    "    [5,-1],\n",
    "    [-1,3],\n",
    "    [6,1]]\n",
    "X = np.array(X)\n",
    "\n",
    "\n",
    "plt.ylim(-10,12)\n",
    "plt.xlim(-10,12)\n",
    "############################\n",
    "\n",
    "#X and Y Matrices\n",
    "Xmat = [[1,2,3],\n",
    "        [1,5,-2],\n",
    "        [1,3,1]]\n",
    "\n",
    "Ymat = [0.2,0,2]\n",
    "\n",
    "#Finding the theta\n",
    "Xmat = np.array(Xmat)\n",
    "Ymat = np.array(Ymat)\n",
    "#from lexture example\n",
    "thetas = np.linalg.inv(Xmat.T @ Xmat) @ Xmat.T @ Ymat\n",
    "####################\n",
    "print(thetas)"
   ]
  },
  {
   "cell_type": "markdown",
   "metadata": {},
   "source": [
    "### 2)"
   ]
  },
  {
   "cell_type": "code",
   "execution_count": 5,
   "metadata": {},
   "outputs": [
    {
     "data": {
      "image/png": "[encoded data removed]",
      "text/plain": [
       "<Figure size 432x288 with 1 Axes>"
      ]
     },
     "metadata": {
      "needs_background": "light"
     },
     "output_type": "display_data"
    },
    {
     "name": "stdout",
     "output_type": "stream",
     "text": [
      "Min value for J is 0\n"
     ]
    }
   ],
   "source": [
    "x1 = 0\n",
    "x2 = [0,1,2]\n",
    "J=0\n",
    "Jmin = 100000\n",
    "def getJ(x1,x2):\n",
    "    return((x1+x2-2)**2)\n",
    "i =-100\n",
    "while (i<100):\n",
    "    x1 = i\n",
    "    for j in x2:\n",
    "        J=getJ(x1,j)\n",
    "        if(J<Jmin):\n",
    "            Jmin = J\n",
    "        plt.plot(x1,J,\"bo\")\n",
    "    i+=1\n",
    "plt.show()\n",
    "print(\"Min value for J is \"+ str(Jmin))"
   ]
  },
  {
   "cell_type": "markdown",
   "metadata": {},
   "source": [
    "### Problem 2 Code"
   ]
  },
  {
   "cell_type": "code",
   "execution_count": 21,
   "metadata": {},
   "outputs": [
    {
     "name": "stdout",
     "output_type": "stream",
     "text": [
      "[[ 5 -2]\n",
      " [ 2  3]]\n",
      "[[ 0.70710678 -0.70710678]\n",
      " [-0.70710678  0.70710678]]\n"
     ]
    },
    {
     "ename": "LinAlgError",
     "evalue": "Singular matrix",
     "output_type": "error",
     "traceback": [
      "\u001b[1;31m---------------------------------------------------------------------------\u001b[0m",
      "\u001b[1;31mLinAlgError\u001b[0m                               Traceback (most recent call last)",
      "\u001b[1;32m<ipython-input-21-c8aba570645c>\u001b[0m in \u001b[0;36m<module>\u001b[1;34m\u001b[0m\n\u001b[0;32m     28\u001b[0m \u001b[0msxtrn\u001b[0m \u001b[1;33m=\u001b[0m \u001b[0mnp\u001b[0m\u001b[1;33m.\u001b[0m\u001b[0minsert\u001b[0m\u001b[1;33m(\u001b[0m\u001b[0msxtrn\u001b[0m\u001b[1;33m,\u001b[0m \u001b[1;36m0\u001b[0m\u001b[1;33m,\u001b[0m \u001b[0mvalues\u001b[0m \u001b[1;33m=\u001b[0m \u001b[1;36m1\u001b[0m\u001b[1;33m,\u001b[0m \u001b[0maxis\u001b[0m \u001b[1;33m=\u001b[0m \u001b[1;36m1\u001b[0m\u001b[1;33m)\u001b[0m\u001b[1;33m\u001b[0m\u001b[1;33m\u001b[0m\u001b[0m\n\u001b[0;32m     29\u001b[0m \u001b[0msxtst\u001b[0m \u001b[1;33m=\u001b[0m \u001b[0mnp\u001b[0m\u001b[1;33m.\u001b[0m\u001b[0minsert\u001b[0m\u001b[1;33m(\u001b[0m\u001b[0msxtst\u001b[0m\u001b[1;33m,\u001b[0m \u001b[1;36m0\u001b[0m\u001b[1;33m,\u001b[0m \u001b[0mvalues\u001b[0m \u001b[1;33m=\u001b[0m \u001b[1;36m1\u001b[0m\u001b[1;33m,\u001b[0m \u001b[0maxis\u001b[0m \u001b[1;33m=\u001b[0m \u001b[1;36m1\u001b[0m\u001b[1;33m)\u001b[0m\u001b[1;33m\u001b[0m\u001b[1;33m\u001b[0m\u001b[0m\n\u001b[1;32m---> 30\u001b[1;33m \u001b[0mthetas\u001b[0m \u001b[1;33m=\u001b[0m \u001b[0mnp\u001b[0m\u001b[1;33m.\u001b[0m\u001b[0mlinalg\u001b[0m\u001b[1;33m.\u001b[0m\u001b[0minv\u001b[0m\u001b[1;33m(\u001b[0m\u001b[0msxtrn\u001b[0m\u001b[1;33m.\u001b[0m\u001b[0mT\u001b[0m \u001b[1;33m@\u001b[0m \u001b[0msxtrn\u001b[0m\u001b[1;33m)\u001b[0m\u001b[1;33m@\u001b[0m\u001b[0msxtrn\u001b[0m\u001b[1;33m.\u001b[0m\u001b[0mT\u001b[0m\u001b[1;33m@\u001b[0m \u001b[0mytrn\u001b[0m\u001b[1;33m\u001b[0m\u001b[1;33m\u001b[0m\u001b[0m\n\u001b[0m\u001b[0;32m     31\u001b[0m \u001b[0mprint\u001b[0m\u001b[1;33m(\u001b[0m\u001b[1;34m\"theta0=\\t\"\u001b[0m\u001b[1;33m+\u001b[0m\u001b[0mstr\u001b[0m\u001b[1;33m(\u001b[0m\u001b[0mthetas\u001b[0m\u001b[1;33m[\u001b[0m\u001b[1;36m0\u001b[0m\u001b[1;33m]\u001b[0m\u001b[1;33m)\u001b[0m\u001b[1;33m)\u001b[0m\u001b[1;33m\u001b[0m\u001b[1;33m\u001b[0m\u001b[0m\n\u001b[0;32m     32\u001b[0m \u001b[0mprint\u001b[0m\u001b[1;33m(\u001b[0m\u001b[1;34m\"theta1=\\t\"\u001b[0m\u001b[1;33m+\u001b[0m\u001b[0mstr\u001b[0m\u001b[1;33m(\u001b[0m\u001b[0mthetas\u001b[0m\u001b[1;33m[\u001b[0m\u001b[1;36m1\u001b[0m\u001b[1;33m]\u001b[0m\u001b[1;33m)\u001b[0m\u001b[1;33m)\u001b[0m\u001b[1;33m\u001b[0m\u001b[1;33m\u001b[0m\u001b[0m\n",
      "\u001b[1;32m<__array_function__ internals>\u001b[0m in \u001b[0;36minv\u001b[1;34m(*args, **kwargs)\u001b[0m\n",
      "\u001b[1;32m~\\anaconda3\\lib\\site-packages\\numpy\\linalg\\linalg.py\u001b[0m in \u001b[0;36minv\u001b[1;34m(a)\u001b[0m\n\u001b[0;32m    545\u001b[0m     \u001b[0msignature\u001b[0m \u001b[1;33m=\u001b[0m \u001b[1;34m'D->D'\u001b[0m \u001b[1;32mif\u001b[0m \u001b[0misComplexType\u001b[0m\u001b[1;33m(\u001b[0m\u001b[0mt\u001b[0m\u001b[1;33m)\u001b[0m \u001b[1;32melse\u001b[0m \u001b[1;34m'd->d'\u001b[0m\u001b[1;33m\u001b[0m\u001b[1;33m\u001b[0m\u001b[0m\n\u001b[0;32m    546\u001b[0m     \u001b[0mextobj\u001b[0m \u001b[1;33m=\u001b[0m \u001b[0mget_linalg_error_extobj\u001b[0m\u001b[1;33m(\u001b[0m\u001b[0m_raise_linalgerror_singular\u001b[0m\u001b[1;33m)\u001b[0m\u001b[1;33m\u001b[0m\u001b[1;33m\u001b[0m\u001b[0m\n\u001b[1;32m--> 547\u001b[1;33m     \u001b[0mainv\u001b[0m \u001b[1;33m=\u001b[0m \u001b[0m_umath_linalg\u001b[0m\u001b[1;33m.\u001b[0m\u001b[0minv\u001b[0m\u001b[1;33m(\u001b[0m\u001b[0ma\u001b[0m\u001b[1;33m,\u001b[0m \u001b[0msignature\u001b[0m\u001b[1;33m=\u001b[0m\u001b[0msignature\u001b[0m\u001b[1;33m,\u001b[0m \u001b[0mextobj\u001b[0m\u001b[1;33m=\u001b[0m\u001b[0mextobj\u001b[0m\u001b[1;33m)\u001b[0m\u001b[1;33m\u001b[0m\u001b[1;33m\u001b[0m\u001b[0m\n\u001b[0m\u001b[0;32m    548\u001b[0m     \u001b[1;32mreturn\u001b[0m \u001b[0mwrap\u001b[0m\u001b[1;33m(\u001b[0m\u001b[0mainv\u001b[0m\u001b[1;33m.\u001b[0m\u001b[0mastype\u001b[0m\u001b[1;33m(\u001b[0m\u001b[0mresult_t\u001b[0m\u001b[1;33m,\u001b[0m \u001b[0mcopy\u001b[0m\u001b[1;33m=\u001b[0m\u001b[1;32mFalse\u001b[0m\u001b[1;33m)\u001b[0m\u001b[1;33m)\u001b[0m\u001b[1;33m\u001b[0m\u001b[1;33m\u001b[0m\u001b[0m\n\u001b[0;32m    549\u001b[0m \u001b[1;33m\u001b[0m\u001b[0m\n",
      "\u001b[1;32m~\\anaconda3\\lib\\site-packages\\numpy\\linalg\\linalg.py\u001b[0m in \u001b[0;36m_raise_linalgerror_singular\u001b[1;34m(err, flag)\u001b[0m\n\u001b[0;32m     95\u001b[0m \u001b[1;33m\u001b[0m\u001b[0m\n\u001b[0;32m     96\u001b[0m \u001b[1;32mdef\u001b[0m \u001b[0m_raise_linalgerror_singular\u001b[0m\u001b[1;33m(\u001b[0m\u001b[0merr\u001b[0m\u001b[1;33m,\u001b[0m \u001b[0mflag\u001b[0m\u001b[1;33m)\u001b[0m\u001b[1;33m:\u001b[0m\u001b[1;33m\u001b[0m\u001b[1;33m\u001b[0m\u001b[0m\n\u001b[1;32m---> 97\u001b[1;33m     \u001b[1;32mraise\u001b[0m \u001b[0mLinAlgError\u001b[0m\u001b[1;33m(\u001b[0m\u001b[1;34m\"Singular matrix\"\u001b[0m\u001b[1;33m)\u001b[0m\u001b[1;33m\u001b[0m\u001b[1;33m\u001b[0m\u001b[0m\n\u001b[0m\u001b[0;32m     98\u001b[0m \u001b[1;33m\u001b[0m\u001b[0m\n\u001b[0;32m     99\u001b[0m \u001b[1;32mdef\u001b[0m \u001b[0m_raise_linalgerror_nonposdef\u001b[0m\u001b[1;33m(\u001b[0m\u001b[0merr\u001b[0m\u001b[1;33m,\u001b[0m \u001b[0mflag\u001b[0m\u001b[1;33m)\u001b[0m\u001b[1;33m:\u001b[0m\u001b[1;33m\u001b[0m\u001b[1;33m\u001b[0m\u001b[0m\n",
      "\u001b[1;31mLinAlgError\u001b[0m: Singular matrix"
     ]
    }
   ],
   "source": [
    "#helped me read in the data properly\n",
    "#https://stackoverflow.com/questions/19143667/how-to-read-a-csv-without-the-first-column\n",
    "f = open(\"x06Simple.csv\")\n",
    "length = len(f.readline().split(','))\n",
    "data=np.loadtxt(\"x06Simple.csv\", delimiter=\",\", skiprows = 1, usecols=range(1,length))\n",
    "#print(data)\n",
    "\n",
    "#set random seed at 0 as specified\n",
    "np.random.seed(0)\n",
    "np.random.shuffle(data)\n",
    "\n",
    "data = np.array(data)\n",
    "\n",
    "#slice data so y is the length of the fish and x is the reamining columns\n",
    "x = [[2,3],[5,-2],[3,1]]\n",
    "y = [[0.2],[0],[2]]\n",
    "x = np.array(x)\n",
    "y = np.array(y)\n",
    "#split the data into 2/3 trainging 1/3 testing\n",
    "xtrn,xtst,ytrn,ytst = train_test_split(x,y,test_size = (1/3),random_state=0)\n",
    "print(xtrn)\n",
    "mean = np.mean(xtrn,axis=0)\n",
    "std=np.std(xtrn,axis=0,ddof=1)\n",
    "#sxtrn is the standardized trainging set\n",
    "sxtrn = (xtrn-mean)/std\n",
    "sxtst = (xtst-mean)/std\n",
    "print(sxtrn)\n",
    "sxtrn = np.insert(sxtrn, 0, values = 1, axis = 1)\n",
    "sxtst = np.insert(sxtst, 0, values = 1, axis = 1)\n",
    "thetas = np.linalg.inv(sxtrn.T @ sxtrn)@sxtrn.T@ ytrn\n",
    "print(\"theta0=\\t\"+str(thetas[0]))\n",
    "print(\"theta1=\\t\"+str(thetas[1]))\n",
    "print(\"theta2=\\t\"+str(thetas[2]))\n",
    "print(\"\\ny=\"+str(thetas[0])+\"+(\"+str(thetas[1])+\")x1\"+\"+(\"+str(thetas[2])+\")x2\")\n",
    "\n",
    "y_hat = sxtst @ thetas\n",
    "ser =0\n",
    "N=len(y_hat)\n",
    "\n",
    "for i in range(N):\n",
    "    ser += (ytst[i] - y_hat[i]) ** 2\n",
    "rmse = sqrt(ser/N)\n",
    "\n",
    "print(\"\\nRMSE=\\t\"+str(rmse))"
   ]
  },
  {
   "cell_type": "markdown",
   "metadata": {},
   "source": [
    "### Problem 3 Code"
   ]
  },
  {
   "cell_type": "code",
   "execution_count": 7,
   "metadata": {},
   "outputs": [
    {
     "name": "stdout",
     "output_type": "stream",
     "text": [
      "Thetas [3610.74661451 1840.94463029  -58.38462852]\n",
      "\n",
      "RMSE=351.6779056674261\n"
     ]
    }
   ],
   "source": [
    "#helped me read in the data properly\n",
    "#https://stackoverflow.com/questions/19143667/how-to-read-a-csv-without-the-first-column\n",
    "f = open(\"x06Simple.csv\")\n",
    "length = len(f.readline().split(','))\n",
    "data=np.loadtxt(\"x06Simple.csv\", delimiter=\",\", skiprows = 1, usecols=range(1,length))\n",
    "#print(data)\n",
    "\n",
    "#set random seed at 0 as specified\n",
    "np.random.seed(0)\n",
    "np.random.shuffle(data)\n",
    "\n",
    "data = np.array(data)\n",
    "\n",
    "#slice data so y is the length of the fish and x is the reamining columns\n",
    "y = data[:, 2]\n",
    "x = data[:,0:2]\n",
    "x = np.array(x)\n",
    "y = np.array(y)\n",
    "#split the data into 2/3 trainging 1/3 testing\n",
    "xtrn,xtst,ytrn,ytst = train_test_split(x,y,test_size = (1/3),random_state=0)\n",
    "\n",
    "#calculate the mean and standard deviation\n",
    "mean = np.mean(xtrn,axis=0)\n",
    "std=np.std(xtrn,axis=0,ddof=1)\n",
    "\n",
    "#calculate the standardized training and test sets for x\n",
    "sxtrn = (xtrn-mean)/std\n",
    "sxtst = (xtst-mean)/std\n",
    "\n",
    "#add bias\n",
    "sxtrn = np.insert(sxtrn, 0, values = 1, axis = 1)\n",
    "sxtst = np.insert(sxtst, 0, values = 1, axis = 1)\n",
    "\n",
    "#initialize distance array, thetas,SE, and a count variable\n",
    "dist = []\n",
    "thetas = []\n",
    "counti = 0\n",
    "SE=0\n",
    "N=0\n",
    "#for each test set\n",
    "for i in sxtst:\n",
    "    thetas = []\n",
    "    #go through each training set and calculate the thetas and SE\n",
    "    for j in sxtrn:\n",
    "        dist=np.append(dist,np.exp(-1*(np.sum(np.square(np.subtract(j,i))))))\n",
    "    W = np.diag(dist)\n",
    "    dist=[]\n",
    "    #print(W)\n",
    "    #calculates thetas\n",
    "    thetas = np.append(thetas,np.linalg.inv(sxtrn.T@W@sxtrn)@sxtrn.T@W@ytrn)\n",
    "    y_hat = i@thetas\n",
    "    SE+=(ytst[counti]-y_hat)**2\n",
    "    counti+=1\n",
    "    \n",
    "N=len(sxtst)\n",
    "#claculate root mean square error by \n",
    "RMSE = sqrt(SE/N)\n",
    "\n",
    "print(\"Thetas\",thetas)\n",
    "print(\"\\nRMSE=\"+str(RMSE))"
   ]
  },
  {
   "cell_type": "markdown",
   "metadata": {},
   "source": [
    "### Problem 4 Code"
   ]
  },
  {
   "cell_type": "code",
   "execution_count": 2,
   "metadata": {},
   "outputs": [
    {
     "ename": "NameError",
     "evalue": "name 'np' is not defined",
     "output_type": "error",
     "traceback": [
      "\u001b[1;31m---------------------------------------------------------------------------\u001b[0m",
      "\u001b[1;31mNameError\u001b[0m                                 Traceback (most recent call last)",
      "\u001b[1;32m<ipython-input-2-32870b188312>\u001b[0m in \u001b[0;36m<module>\u001b[1;34m\u001b[0m\n\u001b[0;32m      3\u001b[0m \u001b[0mf\u001b[0m \u001b[1;33m=\u001b[0m \u001b[0mopen\u001b[0m\u001b[1;33m(\u001b[0m\u001b[1;34m\"x06Simple.csv\"\u001b[0m\u001b[1;33m)\u001b[0m\u001b[1;33m\u001b[0m\u001b[1;33m\u001b[0m\u001b[0m\n\u001b[0;32m      4\u001b[0m \u001b[0mlength\u001b[0m \u001b[1;33m=\u001b[0m \u001b[0mlen\u001b[0m\u001b[1;33m(\u001b[0m\u001b[0mf\u001b[0m\u001b[1;33m.\u001b[0m\u001b[0mreadline\u001b[0m\u001b[1;33m(\u001b[0m\u001b[1;33m)\u001b[0m\u001b[1;33m.\u001b[0m\u001b[0msplit\u001b[0m\u001b[1;33m(\u001b[0m\u001b[1;34m','\u001b[0m\u001b[1;33m)\u001b[0m\u001b[1;33m)\u001b[0m\u001b[1;33m\u001b[0m\u001b[1;33m\u001b[0m\u001b[0m\n\u001b[1;32m----> 5\u001b[1;33m \u001b[0mdata\u001b[0m\u001b[1;33m=\u001b[0m\u001b[0mnp\u001b[0m\u001b[1;33m.\u001b[0m\u001b[0mloadtxt\u001b[0m\u001b[1;33m(\u001b[0m\u001b[1;34m\"x06Simple.csv\"\u001b[0m\u001b[1;33m,\u001b[0m \u001b[0mdelimiter\u001b[0m\u001b[1;33m=\u001b[0m\u001b[1;34m\",\"\u001b[0m\u001b[1;33m,\u001b[0m \u001b[0mskiprows\u001b[0m \u001b[1;33m=\u001b[0m \u001b[1;36m1\u001b[0m\u001b[1;33m,\u001b[0m \u001b[0musecols\u001b[0m\u001b[1;33m=\u001b[0m\u001b[0mrange\u001b[0m\u001b[1;33m(\u001b[0m\u001b[1;36m1\u001b[0m\u001b[1;33m,\u001b[0m\u001b[0mlength\u001b[0m\u001b[1;33m)\u001b[0m\u001b[1;33m)\u001b[0m\u001b[1;33m\u001b[0m\u001b[1;33m\u001b[0m\u001b[0m\n\u001b[0m\u001b[0;32m      6\u001b[0m \u001b[0mf\u001b[0m\u001b[1;33m.\u001b[0m\u001b[0mclose\u001b[0m\u001b[1;33m(\u001b[0m\u001b[1;33m)\u001b[0m\u001b[1;33m\u001b[0m\u001b[1;33m\u001b[0m\u001b[0m\n\u001b[0;32m      7\u001b[0m \u001b[1;31m#print(data)\u001b[0m\u001b[1;33m\u001b[0m\u001b[1;33m\u001b[0m\u001b[1;33m\u001b[0m\u001b[0m\n",
      "\u001b[1;31mNameError\u001b[0m: name 'np' is not defined"
     ]
    }
   ],
   "source": [
    "#helped me read in the data properly\n",
    "#https://stackoverflow.com/questions/19143667/how-to-read-a-csv-without-the-first-column\n",
    "f = open(\"x06Simple.csv\")\n",
    "length = len(f.readline().split(','))\n",
    "data=np.loadtxt(\"x06Simple.csv\", delimiter=\",\", skiprows = 1, usecols=range(1,length))\n",
    "f.close()\n",
    "#print(data)\n",
    "\n",
    "#set random seed at 0 as specified\n",
    "np.random.seed(1)\n",
    "np.random.shuffle(data)\n",
    "\n",
    "data = np.array(data)\n",
    "\n",
    "#slice data so y is the length of the fish and x is the reamining columns\n",
    "y = data[:, 2]\n",
    "x = data[:,0:2]\n",
    "x = np.array(x)\n",
    "y = np.array(y)\n",
    "\n",
    "#split the data into 2/3 trainging 1/3 testing\n",
    "xtrn,xtst,ytrn,ytst = train_test_split(x,y,test_size = (1/3),random_state=0)\n",
    "\n",
    "#calculate the mean and standard deviation\n",
    "mean = np.mean(xtrn,axis=0)\n",
    "std=np.std(xtrn,axis=0,ddof=1)\n",
    "\n",
    "#calculate the standardized training and test sets for x\n",
    "sxtrn = (xtrn-mean)/std\n",
    "sxtst = (xtst-mean)/std\n",
    "\n",
    "#add bias\n",
    "sxtrn = np.insert(sxtrn, 0, values = 1, axis = 1)\n",
    "sxtst = np.insert(sxtst, 0, values = 1, axis = 1)\n",
    "\n",
    "plt.plot(x)\n",
    "# Add Bias to the data\n",
    "x = np.insert(x, 0, values=1, axis=1)\n",
    "\n",
    "\n",
    "#learning parameter\n",
    "num = 2**(-23)\n",
    "n=0.01\n",
    "N=len(sxtrn)\n",
    "RMSE = 5000\n",
    "RMSE_test=0\n",
    "prev_RMSE =1\n",
    "iteration = 0\n",
    "#randomly choose values between -1 to 1 for the thetas\n",
    "thetas = [random.randint(-1,1),random.randint(-1,1),random.randint(-1,1)]\n",
    "\n",
    "#while loop\n",
    "while 1:\n",
    "    thetas = np.subtract(thetas,(((n/N)*x.T)@(np.subtract(sxtrn@thetas,ytrn))))\n",
    "    y_hat = sxtrn@thetas\n",
    "    y_hat_test = sxtst@thetas\n",
    "    SE=0\n",
    "    SE_test=0\n",
    "    N=len(y_hat)\n",
    "    \n",
    "    N_t=len(y_hat_test)\n",
    "    #RMSE for the test set\n",
    "    for i in range(N_t):\n",
    "        SE_test += (ytst[i] - y_hat_test[i]) ** 2\n",
    "    RMSE_test = sqrt(SE_test/N_t)\n",
    "    \n",
    "    #RMSE for training set\n",
    "    for i in range(N):\n",
    "        SE += (ytrn[i] - y_hat[i]) ** 2\n",
    "    prev_RMSE = RMSE\n",
    "    RMSE = sqrt(SE/N)\n",
    "    \n",
    "    #plot RMSE for each\n",
    "    plt.plot(iteration,RMSE_test,\"bx\",color=\"red\")\n",
    "    plt.plot(iteration,RMSE,\"bo\",color=\"green\")\n",
    "    if((1-(RMSE/prev_RMSE))<(2**(-23))):\n",
    "        print(\"Convergence on iteration \"+str(iteration))\n",
    "        print(\"RMSE=\"+str(RMSE))\n",
    "        print(\"Optimal thetas: \"+str(thetas))\n",
    "        break\n",
    "    if(iteration>10000):\n",
    "        print(\"Max iterations met...\")\n",
    "        break\n",
    "    iteration+=1\n",
    "\n",
    "plt.ylabel(\"RMSE Training(Green),Test(Red)\")\n",
    "plt.xlabel(\"Iteration(s)\")\n",
    "plt.show()\n",
    "    \n",
    "    \n"
   ]
  },
  {
   "cell_type": "code",
   "execution_count": null,
   "metadata": {},
   "outputs": [],
   "source": []
  }
 ],
 "metadata": {
  "kernelspec": {
   "display_name": "Python 3",
   "language": "python",
   "name": "python3"
  },
  "language_info": {
   "codemirror_mode": {
    "name": "ipython",
    "version": 3
   },
   "file_extension": ".py",
   "mimetype": "text/x-python",
   "name": "python",
   "nbconvert_exporter": "python",
   "pygments_lexer": "ipython3",
   "version": "3.7.6"
  }
 },
 "nbformat": 4,
 "nbformat_minor": 4
}
